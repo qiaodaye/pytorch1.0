{
 "cells": [
  {
   "cell_type": "code",
   "execution_count": 1,
   "metadata": {},
   "outputs": [],
   "source": [
    "import numpy as np"
   ]
  },
  {
   "cell_type": "code",
   "execution_count": 8,
   "metadata": {},
   "outputs": [
    {
     "name": "stdout",
     "output_type": "stream",
     "text": [
      "0\n",
      "0\n",
      "1\n"
     ]
    }
   ],
   "source": [
    "w1 = 0.66\n",
    "w2 = 0.33\n",
    "b = 0.33\n",
    "def train():\n",
    "    data = [\n",
    "        [1,0,-1],\n",
    "        [0,1,-1],\n",
    "        [0,0,-1],\n",
    "        [1,1,1]\n",
    "    ]\n",
    "    \n",
    "    global w1,w2,b\n",
    "    encho = 20\n",
    "    for _ in range(encho):\n",
    "        for i in data:\n",
    "            d_w1 = 2*(w1*i[0]+w2*i[1]+b-i[2])*i[0]\n",
    "            d_w2 = 2*(w1*i[0]+w2*i[1]+b-i[2])*i[1]\n",
    "            d_b = 2*(w1*i[0]+w2*i[1]+b-i[2])\n",
    "            \n",
    "            learn_rate = 0.01\n",
    "            w1_next = w1 - learn_rate*d_w1\n",
    "            w2_next = w2 - learn_rate*d_w2\n",
    "            b_next = b - learn_rate*d_b\n",
    "\n",
    "            w1 = w1_next \n",
    "            w2 = w2_next \n",
    "            b = b_next\n",
    "            \n",
    "def f(x1,x2):\n",
    "    \n",
    "    global w1,w2,b\n",
    "    if w1*x1+w2*x2+b > 0:\n",
    "        return 1\n",
    "    else:\n",
    "        return 0\n",
    "\n",
    "train()\n",
    "print(f(1,0))\n",
    "print(f(0,0))\n",
    "print(f(1,1))"
   ]
  },
  {
   "cell_type": "code",
   "execution_count": 26,
   "metadata": {},
   "outputs": [
    {
     "name": "stdout",
     "output_type": "stream",
     "text": [
      "grad None data tensor([1.])\n",
      "tensor([0.0115])\n",
      "tensor([-0.9998], grad_fn=<SubBackward0>)\n"
     ]
    }
   ],
   "source": [
    "import torch   #梯度下降\n",
    "from torch.autograd import Variable\n",
    " \n",
    "x = torch.Tensor([1])\n",
    "#建立一个张量  tensor([1.], requires_grad=True)\n",
    "x = Variable(x, requires_grad=True)\n",
    "print('grad', x.grad, 'data', x.data)\n",
    "learning_rate = 0.1\n",
    "epochs = 20\n",
    " \n",
    "for epoch in range(epochs):\n",
    "    y = x ** 2 - 1\n",
    "    y.backward()\n",
    "    #print('grad',x.grad.data)\n",
    "    x.data=x.data-learning_rate*x.grad.data\n",
    "    x.grad.data.zero_()\n",
    "print(x.data)\n",
    "print(y)"
   ]
  },
  {
   "cell_type": "code",
   "execution_count": null,
   "metadata": {},
   "outputs": [],
   "source": []
  }
 ],
 "metadata": {
  "kernelspec": {
   "display_name": "Python [conda env:root] *",
   "language": "python",
   "name": "conda-root-py"
  },
  "language_info": {
   "codemirror_mode": {
    "name": "ipython",
    "version": 3
   },
   "file_extension": ".py",
   "mimetype": "text/x-python",
   "name": "python",
   "nbconvert_exporter": "python",
   "pygments_lexer": "ipython3",
   "version": "3.7.3"
  }
 },
 "nbformat": 4,
 "nbformat_minor": 2
}
