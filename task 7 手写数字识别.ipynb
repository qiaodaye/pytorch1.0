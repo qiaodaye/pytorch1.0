{
 "cells": [
  {
   "cell_type": "code",
   "execution_count": 1,
   "metadata": {},
   "outputs": [],
   "source": [
    "import torch\n",
    "import torchvision\n",
    "from torch.autograd import Variable \n",
    "import torchvision.transforms as transform\n",
    "import torchvision.datasets as dsets\n",
    "import torch.nn as nn\n",
    "import torch.nn.functional as F\n",
    "import torch.optim as optim"
   ]
  },
  {
   "cell_type": "code",
   "execution_count": 2,
   "metadata": {},
   "outputs": [
    {
     "name": "stderr",
     "output_type": "stream",
     "text": [
      "\r",
      "0it [00:00, ?it/s]"
     ]
    },
    {
     "name": "stdout",
     "output_type": "stream",
     "text": [
      "Downloading http://yann.lecun.com/exdb/mnist/train-images-idx3-ubyte.gz to ./data/MNIST/raw/train-images-idx3-ubyte.gz\n"
     ]
    },
    {
     "name": "stderr",
     "output_type": "stream",
     "text": [
      "100%|█████████▉| 9904128/9912422 [00:11<00:00, 1661724.24it/s]"
     ]
    },
    {
     "name": "stdout",
     "output_type": "stream",
     "text": [
      "Extracting ./data/MNIST/raw/train-images-idx3-ubyte.gz\n"
     ]
    },
    {
     "name": "stderr",
     "output_type": "stream",
     "text": [
      "\n",
      "0it [00:00, ?it/s]\u001b[A"
     ]
    },
    {
     "name": "stdout",
     "output_type": "stream",
     "text": [
      "Downloading http://yann.lecun.com/exdb/mnist/train-labels-idx1-ubyte.gz to ./data/MNIST/raw/train-labels-idx1-ubyte.gz\n"
     ]
    },
    {
     "name": "stderr",
     "output_type": "stream",
     "text": [
      "\n",
      "  0%|          | 0/28881 [00:00<?, ?it/s]\u001b[A\n",
      " 57%|█████▋    | 16384/28881 [00:00<00:00, 46886.43it/s]\u001b[A\n",
      "32768it [00:00, 37568.04it/s]                           \u001b[A\n",
      "0it [00:00, ?it/s]\u001b[A"
     ]
    },
    {
     "name": "stdout",
     "output_type": "stream",
     "text": [
      "Extracting ./data/MNIST/raw/train-labels-idx1-ubyte.gz\n",
      "Downloading http://yann.lecun.com/exdb/mnist/t10k-images-idx3-ubyte.gz to ./data/MNIST/raw/t10k-images-idx3-ubyte.gz\n"
     ]
    },
    {
     "name": "stderr",
     "output_type": "stream",
     "text": [
      "\n",
      "  0%|          | 0/1648877 [00:00<?, ?it/s]\u001b[A\n",
      "  1%|          | 16384/1648877 [00:00<00:26, 61302.00it/s]\u001b[A\n",
      "  2%|▏         | 40960/1648877 [00:01<00:23, 68939.84it/s]\u001b[A\n",
      "  6%|▌         | 98304/1648877 [00:01<00:17, 87109.35it/s]\u001b[A\n",
      " 12%|█▏        | 204800/1648877 [00:01<00:12, 119147.00it/s]\u001b[A\n",
      " 14%|█▍        | 237568/1648877 [00:01<00:09, 141492.40it/s]\u001b[A\n",
      " 16%|█▋        | 270336/1648877 [00:01<00:10, 134238.02it/s]\u001b[A\n",
      " 20%|█▉        | 327680/1648877 [00:01<00:07, 166866.61it/s]\u001b[A\n",
      " 24%|██▍       | 401408/1648877 [00:02<00:05, 217262.48it/s]\u001b[A\n",
      " 27%|██▋       | 450560/1648877 [00:02<00:05, 212617.26it/s]\u001b[A\n",
      " 33%|███▎      | 548864/1648877 [00:02<00:04, 264301.31it/s]\u001b[A\n",
      " 41%|████      | 671744/1648877 [00:02<00:02, 345679.54it/s]\u001b[A\n",
      " 45%|████▌     | 745472/1648877 [00:02<00:02, 376402.36it/s]\u001b[A\n",
      " 49%|████▉     | 811008/1648877 [00:02<00:01, 430051.53it/s]\u001b[A\n",
      " 56%|█████▌    | 917504/1648877 [00:02<00:01, 514564.41it/s]\u001b[A\n",
      " 60%|██████    | 991232/1648877 [00:03<00:01, 519702.92it/s]\u001b[A\n",
      " 68%|██████▊   | 1122304/1648877 [00:03<00:00, 588207.12it/s]\u001b[A\n",
      " 73%|███████▎  | 1196032/1648877 [00:03<00:00, 625935.54it/s]\u001b[A\n",
      " 81%|████████  | 1335296/1648877 [00:03<00:00, 690354.13it/s]\u001b[A\n",
      " 86%|████████▌ | 1417216/1648877 [00:03<00:00, 713924.61it/s]\u001b[A\n",
      " 93%|█████████▎| 1540096/1648877 [00:03<00:00, 802072.48it/s]\u001b[A\n",
      " 99%|█████████▉| 1630208/1648877 [00:03<00:00, 733296.37it/s]\u001b[A\n",
      "1654784it [00:03, 427194.61it/s]                             \u001b[A\n",
      "0it [00:00, ?it/s]\u001b[A"
     ]
    },
    {
     "name": "stdout",
     "output_type": "stream",
     "text": [
      "Extracting ./data/MNIST/raw/t10k-images-idx3-ubyte.gz\n",
      "Downloading http://yann.lecun.com/exdb/mnist/t10k-labels-idx1-ubyte.gz to ./data/MNIST/raw/t10k-labels-idx1-ubyte.gz\n"
     ]
    },
    {
     "name": "stderr",
     "output_type": "stream",
     "text": [
      "\n",
      "  0%|          | 0/4542 [00:00<?, ?it/s]\u001b[A\n",
      "8192it [00:00, 15793.70it/s]            \u001b[A"
     ]
    },
    {
     "name": "stdout",
     "output_type": "stream",
     "text": [
      "Extracting ./data/MNIST/raw/t10k-labels-idx1-ubyte.gz\n",
      "Processing...\n",
      "Done!\n"
     ]
    },
    {
     "name": "stderr",
     "output_type": "stream",
     "text": [
      "\r",
      "9920512it [00:30, 1661724.24it/s]                             "
     ]
    }
   ],
   "source": [
    "n_epochs = 3\n",
    "batch_size_train = 64\n",
    "batch_size_test = 1000\n",
    "learning_rate = 0.01\n",
    "momentum = 0.5\n",
    "log_interval = 10\n",
    "\n",
    "random_seed = 1\n",
    "torch.backends.cudnn.enabled = False\n",
    "torch.manual_seed(random_seed) # 为CPU设置种子生成随机数，以使结果确定  \n",
    "\n",
    "# LOAD DATA \n",
    "train_loader = torch.utils.data.DataLoader(\n",
    "  torchvision.datasets.MNIST('./data', train=True, download=True,\n",
    "                             transform=torchvision.transforms.Compose([\n",
    "                               torchvision.transforms.ToTensor(),\n",
    "                               torchvision.transforms.Normalize(\n",
    "                                 (0.1307,), (0.3081,))\n",
    "                             ])),\n",
    "  batch_size=batch_size_train, shuffle=True)\n",
    "\n",
    "test_loader = torch.utils.data.DataLoader(\n",
    "  torchvision.datasets.MNIST('./data', train=False, download=True,\n",
    "                             transform=torchvision.transforms.Compose([\n",
    "                               torchvision.transforms.ToTensor(),\n",
    "                               torchvision.transforms.Normalize(\n",
    "                                 (0.1307,), (0.3081,))\n",
    "                             ])),\n",
    "  batch_size=batch_size_test, shuffle=True)"
   ]
  },
  {
   "cell_type": "code",
   "execution_count": 4,
   "metadata": {},
   "outputs": [
    {
     "data": {
      "image/png": "[encoded data removed]",
      "text/plain": [
       "<Figure size 432x288 with 6 Axes>"
      ]
     },
     "metadata": {},
     "output_type": "display_data"
    }
   ],
   "source": [
    "import matplotlib.pyplot as plt\n",
    "\n",
    "examples = enumerate(test_loader)\n",
    "batch_idx, (example_data, example_targets) = next(examples)\n",
    "\n",
    "fig = plt.figure()\n",
    "for i in range(6):\n",
    "    plt.subplot(2,3,i+1)\n",
    "    plt.tight_layout()\n",
    "    plt.imshow(example_data[i][0], cmap='gray', interpolation='none')\n",
    "    plt.title(\"Ground Truth: {}\".format(example_targets[i]))\n",
    "    plt.xticks([])\n",
    "    plt.yticks([])\n",
    "#fig"
   ]
  },
  {
   "cell_type": "code",
   "execution_count": 6,
   "metadata": {},
   "outputs": [],
   "source": [
    "\n",
    "# Create Model Class\n",
    "class Net(nn.Module):\n",
    "    def __init__(self):\n",
    "        super(Net, self).__init__()\n",
    "        self.conv1 = nn.Conv2d(1, 10, kernel_size=5)\n",
    "        self.conv2 = nn.Conv2d(10, 20, kernel_size=5)\n",
    "        self.conv2_drop = nn.Dropout2d()\n",
    "        self.fc1 = nn.Linear(320, 50)\n",
    "        self.fc2 = nn.Linear(50, 10)\n",
    "\n",
    "    def forward(self, x):\n",
    "        x = F.relu(F.max_pool2d(self.conv1(x), 2))\n",
    "        x = F.relu(F.max_pool2d(self.conv2_drop(self.conv2(x)), 2))\n",
    "        x = x.view(-1, 320)\n",
    "        x = F.relu(self.fc1(x))\n",
    "        x = F.dropout(x, training=self.training)\n",
    "        x = self.fc2(x)\n",
    "        return F.log_softmax(x)"
   ]
  },
  {
   "cell_type": "code",
   "execution_count": 7,
   "metadata": {},
   "outputs": [
    {
     "name": "stdout",
     "output_type": "stream",
     "text": [
      "Net(\n",
      "  (conv1): Conv2d(1, 10, kernel_size=(5, 5), stride=(1, 1))\n",
      "  (conv2): Conv2d(10, 20, kernel_size=(5, 5), stride=(1, 1))\n",
      "  (conv2_drop): Dropout2d(p=0.5)\n",
      "  (fc1): Linear(in_features=320, out_features=50, bias=True)\n",
      "  (fc2): Linear(in_features=50, out_features=10, bias=True)\n",
      ")\n"
     ]
    }
   ],
   "source": [
    "network = Net()\n",
    "\n",
    "print(network)"
   ]
  },
  {
   "cell_type": "code",
   "execution_count": 8,
   "metadata": {},
   "outputs": [],
   "source": [
    "optimizer = optim.SGD(network.parameters(), lr=learning_rate,\n",
    "                      momentum=momentum) #构建mom优化器"
   ]
  },
  {
   "cell_type": "code",
   "execution_count": 9,
   "metadata": {},
   "outputs": [],
   "source": [
    "train_losses = []\n",
    "train_counter = []\n",
    "test_losses = []\n",
    "test_counter = [i*len(train_loader.dataset) for i in range(n_epochs + 1)]"
   ]
  },
  {
   "cell_type": "code",
   "execution_count": 10,
   "metadata": {},
   "outputs": [],
   "source": [
    "def train(epoch):\n",
    "  network.train()\n",
    "  for batch_idx, (data, target) in enumerate(train_loader):\n",
    "    optimizer.zero_grad()\n",
    "    output = network(data)\n",
    "    loss = F.nll_loss(output, target)\n",
    "    loss.backward()\n",
    "    optimizer.step()\n",
    "    if batch_idx % log_interval == 0:\n",
    "        print('Train Epoch: {} [{}/{} ({:.0f}%)]\\tLoss: {:.6f}'.format(\n",
    "        epoch, batch_idx * len(data), len(train_loader.dataset),\n",
    "        100. * batch_idx / len(train_loader), loss.item()))\n",
    "        train_losses.append(loss.item())\n",
    "        train_counter.append(\n",
    "        (batch_idx*64) + ((epoch-1)*len(train_loader.dataset)))"
   ]
  },
  {
   "cell_type": "code",
   "execution_count": 11,
   "metadata": {},
   "outputs": [],
   "source": [
    "def test():\n",
    "  network.eval()\n",
    "  test_loss = 0\n",
    "  correct = 0\n",
    "  with torch.no_grad():\n",
    "    for data, target in test_loader:\n",
    "        output = network(data)\n",
    "        test_loss += F.nll_loss(output, target, size_average=False).item()\n",
    "        pred = output.data.max(1, keepdim=True)[1]\n",
    "        correct += pred.eq(target.data.view_as(pred)).sum()\n",
    "    test_loss /= len(test_loader.dataset)\n",
    "    test_losses.append(test_loss)\n",
    "    print('\\nTest set: Avg. loss: {:.4f}, Accuracy: {}/{} ({:.0f}%)\\n'.format(\n",
    "    test_loss, correct, len(test_loader.dataset),\n",
    "    100. * correct / len(test_loader.dataset)))\n"
   ]
  },
  {
   "cell_type": "code",
   "execution_count": 12,
   "metadata": {},
   "outputs": [
    {
     "name": "stderr",
     "output_type": "stream",
     "text": [
      "/anaconda3/lib/python3.7/site-packages/ipykernel_launcher.py:19: UserWarning: Implicit dimension choice for log_softmax has been deprecated. Change the call to include dim=X as an argument.\n",
      "/anaconda3/lib/python3.7/site-packages/torch/nn/_reduction.py:46: UserWarning: size_average and reduce args will be deprecated, please use reduction='sum' instead.\n",
      "  warnings.warn(warning.format(ret))\n"
     ]
    },
    {
     "name": "stdout",
     "output_type": "stream",
     "text": [
      "\n",
      "Test set: Avg. loss: 2.3155, Accuracy: 999/10000 (9%)\n",
      "\n",
      "Train Epoch: 1 [0/60000 (0%)]\tLoss: 2.321648\n",
      "Train Epoch: 1 [640/60000 (1%)]\tLoss: 2.277670\n",
      "Train Epoch: 1 [1280/60000 (2%)]\tLoss: 2.299489\n",
      "Train Epoch: 1 [1920/60000 (3%)]\tLoss: 2.304993\n",
      "Train Epoch: 1 [2560/60000 (4%)]\tLoss: 2.287651\n",
      "Train Epoch: 1 [3200/60000 (5%)]\tLoss: 2.270946\n",
      "Train Epoch: 1 [3840/60000 (6%)]\tLoss: 2.229566\n",
      "Train Epoch: 1 [4480/60000 (7%)]\tLoss: 2.244529\n",
      "Train Epoch: 1 [5120/60000 (9%)]\tLoss: 2.225570\n",
      "Train Epoch: 1 [5760/60000 (10%)]\tLoss: 2.168067\n",
      "Train Epoch: 1 [6400/60000 (11%)]\tLoss: 2.087137\n",
      "Train Epoch: 1 [7040/60000 (12%)]\tLoss: 1.964486\n",
      "Train Epoch: 1 [7680/60000 (13%)]\tLoss: 2.031346\n",
      "Train Epoch: 1 [8320/60000 (14%)]\tLoss: 1.927215\n",
      "Train Epoch: 1 [8960/60000 (15%)]\tLoss: 1.771848\n",
      "Train Epoch: 1 [9600/60000 (16%)]\tLoss: 1.710876\n",
      "Train Epoch: 1 [10240/60000 (17%)]\tLoss: 1.791293\n",
      "Train Epoch: 1 [10880/60000 (18%)]\tLoss: 1.363729\n",
      "Train Epoch: 1 [11520/60000 (19%)]\tLoss: 1.427970\n",
      "Train Epoch: 1 [12160/60000 (20%)]\tLoss: 1.323350\n",
      "Train Epoch: 1 [12800/60000 (21%)]\tLoss: 1.070792\n",
      "Train Epoch: 1 [13440/60000 (22%)]\tLoss: 1.327220\n",
      "Train Epoch: 1 [14080/60000 (23%)]\tLoss: 1.042736\n",
      "Train Epoch: 1 [14720/60000 (25%)]\tLoss: 0.959958\n",
      "Train Epoch: 1 [15360/60000 (26%)]\tLoss: 0.992461\n",
      "Train Epoch: 1 [16000/60000 (27%)]\tLoss: 0.832691\n",
      "Train Epoch: 1 [16640/60000 (28%)]\tLoss: 1.049534\n",
      "Train Epoch: 1 [17280/60000 (29%)]\tLoss: 0.852362\n",
      "Train Epoch: 1 [17920/60000 (30%)]\tLoss: 0.939032\n",
      "Train Epoch: 1 [18560/60000 (31%)]\tLoss: 0.940627\n",
      "Train Epoch: 1 [19200/60000 (32%)]\tLoss: 0.971495\n",
      "Train Epoch: 1 [19840/60000 (33%)]\tLoss: 0.805701\n",
      "Train Epoch: 1 [20480/60000 (34%)]\tLoss: 0.829459\n",
      "Train Epoch: 1 [21120/60000 (35%)]\tLoss: 0.890940\n",
      "Train Epoch: 1 [21760/60000 (36%)]\tLoss: 1.049793\n",
      "Train Epoch: 1 [22400/60000 (37%)]\tLoss: 0.688798\n",
      "Train Epoch: 1 [23040/60000 (38%)]\tLoss: 0.769382\n",
      "Train Epoch: 1 [23680/60000 (39%)]\tLoss: 0.680028\n",
      "Train Epoch: 1 [24320/60000 (41%)]\tLoss: 0.720213\n",
      "Train Epoch: 1 [24960/60000 (42%)]\tLoss: 0.485420\n",
      "Train Epoch: 1 [25600/60000 (43%)]\tLoss: 0.638210\n",
      "Train Epoch: 1 [26240/60000 (44%)]\tLoss: 0.879711\n",
      "Train Epoch: 1 [26880/60000 (45%)]\tLoss: 0.506251\n",
      "Train Epoch: 1 [27520/60000 (46%)]\tLoss: 0.743524\n",
      "Train Epoch: 1 [28160/60000 (47%)]\tLoss: 0.961287\n",
      "Train Epoch: 1 [28800/60000 (48%)]\tLoss: 0.546913\n",
      "Train Epoch: 1 [29440/60000 (49%)]\tLoss: 0.703537\n",
      "Train Epoch: 1 [30080/60000 (50%)]\tLoss: 0.426036\n",
      "Train Epoch: 1 [30720/60000 (51%)]\tLoss: 0.704983\n",
      "Train Epoch: 1 [31360/60000 (52%)]\tLoss: 0.598962\n",
      "Train Epoch: 1 [32000/60000 (53%)]\tLoss: 0.644110\n",
      "Train Epoch: 1 [32640/60000 (54%)]\tLoss: 0.519229\n",
      "Train Epoch: 1 [33280/60000 (55%)]\tLoss: 0.650920\n",
      "Train Epoch: 1 [33920/60000 (57%)]\tLoss: 0.651307\n",
      "Train Epoch: 1 [34560/60000 (58%)]\tLoss: 0.815196\n",
      "Train Epoch: 1 [35200/60000 (59%)]\tLoss: 0.433545\n",
      "Train Epoch: 1 [35840/60000 (60%)]\tLoss: 0.594378\n",
      "Train Epoch: 1 [36480/60000 (61%)]\tLoss: 0.416986\n",
      "Train Epoch: 1 [37120/60000 (62%)]\tLoss: 0.587134\n",
      "Train Epoch: 1 [37760/60000 (63%)]\tLoss: 0.654249\n",
      "Train Epoch: 1 [38400/60000 (64%)]\tLoss: 0.438099\n",
      "Train Epoch: 1 [39040/60000 (65%)]\tLoss: 0.513442\n",
      "Train Epoch: 1 [39680/60000 (66%)]\tLoss: 0.412090\n",
      "Train Epoch: 1 [40320/60000 (67%)]\tLoss: 0.651999\n",
      "Train Epoch: 1 [40960/60000 (68%)]\tLoss: 0.400951\n",
      "Train Epoch: 1 [41600/60000 (69%)]\tLoss: 0.555890\n",
      "Train Epoch: 1 [42240/60000 (70%)]\tLoss: 0.570616\n",
      "Train Epoch: 1 [42880/60000 (71%)]\tLoss: 0.447555\n",
      "Train Epoch: 1 [43520/60000 (72%)]\tLoss: 0.665963\n",
      "Train Epoch: 1 [44160/60000 (74%)]\tLoss: 0.375217\n",
      "Train Epoch: 1 [44800/60000 (75%)]\tLoss: 0.584496\n",
      "Train Epoch: 1 [45440/60000 (76%)]\tLoss: 0.575563\n",
      "Train Epoch: 1 [46080/60000 (77%)]\tLoss: 0.684864\n",
      "Train Epoch: 1 [46720/60000 (78%)]\tLoss: 0.529299\n",
      "Train Epoch: 1 [47360/60000 (79%)]\tLoss: 0.480403\n",
      "Train Epoch: 1 [48000/60000 (80%)]\tLoss: 0.391426\n",
      "Train Epoch: 1 [48640/60000 (81%)]\tLoss: 0.442310\n",
      "Train Epoch: 1 [49280/60000 (82%)]\tLoss: 0.565183\n",
      "Train Epoch: 1 [49920/60000 (83%)]\tLoss: 0.440865\n",
      "Train Epoch: 1 [50560/60000 (84%)]\tLoss: 0.703898\n",
      "Train Epoch: 1 [51200/60000 (85%)]\tLoss: 0.437312\n",
      "Train Epoch: 1 [51840/60000 (86%)]\tLoss: 0.633496\n",
      "Train Epoch: 1 [52480/60000 (87%)]\tLoss: 0.342463\n",
      "Train Epoch: 1 [53120/60000 (88%)]\tLoss: 0.602067\n",
      "Train Epoch: 1 [53760/60000 (90%)]\tLoss: 0.421675\n",
      "Train Epoch: 1 [54400/60000 (91%)]\tLoss: 0.541642\n",
      "Train Epoch: 1 [55040/60000 (92%)]\tLoss: 0.370473\n",
      "Train Epoch: 1 [55680/60000 (93%)]\tLoss: 0.460645\n",
      "Train Epoch: 1 [56320/60000 (94%)]\tLoss: 0.394007\n",
      "Train Epoch: 1 [56960/60000 (95%)]\tLoss: 0.523240\n",
      "Train Epoch: 1 [57600/60000 (96%)]\tLoss: 0.374051\n",
      "Train Epoch: 1 [58240/60000 (97%)]\tLoss: 0.338379\n",
      "Train Epoch: 1 [58880/60000 (98%)]\tLoss: 0.382557\n",
      "Train Epoch: 1 [59520/60000 (99%)]\tLoss: 0.292884\n",
      "\n",
      "Test set: Avg. loss: 0.1884, Accuracy: 9449/10000 (94%)\n",
      "\n",
      "Train Epoch: 2 [0/60000 (0%)]\tLoss: 0.496167\n",
      "Train Epoch: 2 [640/60000 (1%)]\tLoss: 0.425167\n",
      "Train Epoch: 2 [1280/60000 (2%)]\tLoss: 0.345210\n",
      "Train Epoch: 2 [1920/60000 (3%)]\tLoss: 0.634003\n",
      "Train Epoch: 2 [2560/60000 (4%)]\tLoss: 0.327608\n",
      "Train Epoch: 2 [3200/60000 (5%)]\tLoss: 0.516423\n",
      "Train Epoch: 2 [3840/60000 (6%)]\tLoss: 0.401932\n",
      "Train Epoch: 2 [4480/60000 (7%)]\tLoss: 0.372336\n",
      "Train Epoch: 2 [5120/60000 (9%)]\tLoss: 0.363065\n",
      "Train Epoch: 2 [5760/60000 (10%)]\tLoss: 0.398967\n",
      "Train Epoch: 2 [6400/60000 (11%)]\tLoss: 0.233761\n",
      "Train Epoch: 2 [7040/60000 (12%)]\tLoss: 0.559551\n",
      "Train Epoch: 2 [7680/60000 (13%)]\tLoss: 0.329002\n",
      "Train Epoch: 2 [8320/60000 (14%)]\tLoss: 0.315082\n",
      "Train Epoch: 2 [8960/60000 (15%)]\tLoss: 0.363410\n",
      "Train Epoch: 2 [9600/60000 (16%)]\tLoss: 0.559681\n",
      "Train Epoch: 2 [10240/60000 (17%)]\tLoss: 0.411857\n",
      "Train Epoch: 2 [10880/60000 (18%)]\tLoss: 0.270343\n",
      "Train Epoch: 2 [11520/60000 (19%)]\tLoss: 0.503446\n",
      "Train Epoch: 2 [12160/60000 (20%)]\tLoss: 0.585583\n",
      "Train Epoch: 2 [12800/60000 (21%)]\tLoss: 0.409553\n",
      "Train Epoch: 2 [13440/60000 (22%)]\tLoss: 0.326159\n",
      "Train Epoch: 2 [14080/60000 (23%)]\tLoss: 0.272050\n",
      "Train Epoch: 2 [14720/60000 (25%)]\tLoss: 0.603609\n",
      "Train Epoch: 2 [15360/60000 (26%)]\tLoss: 0.486420\n",
      "Train Epoch: 2 [16000/60000 (27%)]\tLoss: 0.260811\n",
      "Train Epoch: 2 [16640/60000 (28%)]\tLoss: 0.464977\n",
      "Train Epoch: 2 [17280/60000 (29%)]\tLoss: 0.567057\n",
      "Train Epoch: 2 [17920/60000 (30%)]\tLoss: 0.296986\n",
      "Train Epoch: 2 [18560/60000 (31%)]\tLoss: 0.402527\n",
      "Train Epoch: 2 [19200/60000 (32%)]\tLoss: 0.317735\n",
      "Train Epoch: 2 [19840/60000 (33%)]\tLoss: 0.382470\n",
      "Train Epoch: 2 [20480/60000 (34%)]\tLoss: 0.288186\n",
      "Train Epoch: 2 [21120/60000 (35%)]\tLoss: 0.252229\n",
      "Train Epoch: 2 [21760/60000 (36%)]\tLoss: 0.305941\n",
      "Train Epoch: 2 [22400/60000 (37%)]\tLoss: 0.376066\n",
      "Train Epoch: 2 [23040/60000 (38%)]\tLoss: 0.414831\n",
      "Train Epoch: 2 [23680/60000 (39%)]\tLoss: 0.193615\n",
      "Train Epoch: 2 [24320/60000 (41%)]\tLoss: 0.385078\n",
      "Train Epoch: 2 [24960/60000 (42%)]\tLoss: 0.228744\n",
      "Train Epoch: 2 [25600/60000 (43%)]\tLoss: 0.400488\n",
      "Train Epoch: 2 [26240/60000 (44%)]\tLoss: 0.598181\n",
      "Train Epoch: 2 [26880/60000 (45%)]\tLoss: 0.444017\n",
      "Train Epoch: 2 [27520/60000 (46%)]\tLoss: 0.411438\n",
      "Train Epoch: 2 [28160/60000 (47%)]\tLoss: 0.227650\n",
      "Train Epoch: 2 [28800/60000 (48%)]\tLoss: 0.337649\n",
      "Train Epoch: 2 [29440/60000 (49%)]\tLoss: 0.401342\n",
      "Train Epoch: 2 [30080/60000 (50%)]\tLoss: 0.691430\n",
      "Train Epoch: 2 [30720/60000 (51%)]\tLoss: 0.351445\n",
      "Train Epoch: 2 [31360/60000 (52%)]\tLoss: 0.357165\n",
      "Train Epoch: 2 [32000/60000 (53%)]\tLoss: 0.410549\n",
      "Train Epoch: 2 [32640/60000 (54%)]\tLoss: 0.402247\n",
      "Train Epoch: 2 [33280/60000 (55%)]\tLoss: 0.361467\n",
      "Train Epoch: 2 [33920/60000 (57%)]\tLoss: 0.334674\n",
      "Train Epoch: 2 [34560/60000 (58%)]\tLoss: 0.437909\n",
      "Train Epoch: 2 [35200/60000 (59%)]\tLoss: 0.630353\n",
      "Train Epoch: 2 [35840/60000 (60%)]\tLoss: 0.217632\n",
      "Train Epoch: 2 [36480/60000 (61%)]\tLoss: 0.279362\n",
      "Train Epoch: 2 [37120/60000 (62%)]\tLoss: 0.262193\n",
      "Train Epoch: 2 [37760/60000 (63%)]\tLoss: 0.438280\n",
      "Train Epoch: 2 [38400/60000 (64%)]\tLoss: 0.361401\n",
      "Train Epoch: 2 [39040/60000 (65%)]\tLoss: 0.374117\n",
      "Train Epoch: 2 [39680/60000 (66%)]\tLoss: 0.442229\n",
      "Train Epoch: 2 [40320/60000 (67%)]\tLoss: 0.467121\n",
      "Train Epoch: 2 [40960/60000 (68%)]\tLoss: 0.240472\n",
      "Train Epoch: 2 [41600/60000 (69%)]\tLoss: 0.265796\n",
      "Train Epoch: 2 [42240/60000 (70%)]\tLoss: 0.290520\n",
      "Train Epoch: 2 [42880/60000 (71%)]\tLoss: 0.302011\n",
      "Train Epoch: 2 [43520/60000 (72%)]\tLoss: 0.443439\n"
     ]
    },
    {
     "name": "stdout",
     "output_type": "stream",
     "text": [
      "Train Epoch: 2 [44160/60000 (74%)]\tLoss: 0.573212\n",
      "Train Epoch: 2 [44800/60000 (75%)]\tLoss: 0.337129\n",
      "Train Epoch: 2 [45440/60000 (76%)]\tLoss: 0.285151\n",
      "Train Epoch: 2 [46080/60000 (77%)]\tLoss: 0.265245\n",
      "Train Epoch: 2 [46720/60000 (78%)]\tLoss: 0.310778\n",
      "Train Epoch: 2 [47360/60000 (79%)]\tLoss: 0.451688\n",
      "Train Epoch: 2 [48000/60000 (80%)]\tLoss: 0.274011\n",
      "Train Epoch: 2 [48640/60000 (81%)]\tLoss: 0.258438\n",
      "Train Epoch: 2 [49280/60000 (82%)]\tLoss: 0.431150\n",
      "Train Epoch: 2 [49920/60000 (83%)]\tLoss: 0.294422\n",
      "Train Epoch: 2 [50560/60000 (84%)]\tLoss: 0.341920\n",
      "Train Epoch: 2 [51200/60000 (85%)]\tLoss: 0.344683\n",
      "Train Epoch: 2 [51840/60000 (86%)]\tLoss: 0.473857\n",
      "Train Epoch: 2 [52480/60000 (87%)]\tLoss: 0.453215\n",
      "Train Epoch: 2 [53120/60000 (88%)]\tLoss: 0.552769\n",
      "Train Epoch: 2 [53760/60000 (90%)]\tLoss: 0.351684\n",
      "Train Epoch: 2 [54400/60000 (91%)]\tLoss: 0.274724\n",
      "Train Epoch: 2 [55040/60000 (92%)]\tLoss: 0.431393\n",
      "Train Epoch: 2 [55680/60000 (93%)]\tLoss: 0.266575\n",
      "Train Epoch: 2 [56320/60000 (94%)]\tLoss: 0.312053\n",
      "Train Epoch: 2 [56960/60000 (95%)]\tLoss: 0.326533\n",
      "Train Epoch: 2 [57600/60000 (96%)]\tLoss: 0.427260\n",
      "Train Epoch: 2 [58240/60000 (97%)]\tLoss: 0.240329\n",
      "Train Epoch: 2 [58880/60000 (98%)]\tLoss: 0.227876\n",
      "Train Epoch: 2 [59520/60000 (99%)]\tLoss: 0.448474\n",
      "\n",
      "Test set: Avg. loss: 0.1248, Accuracy: 9632/10000 (96%)\n",
      "\n",
      "Train Epoch: 3 [0/60000 (0%)]\tLoss: 0.210781\n",
      "Train Epoch: 3 [640/60000 (1%)]\tLoss: 0.198078\n",
      "Train Epoch: 3 [1280/60000 (2%)]\tLoss: 0.461891\n",
      "Train Epoch: 3 [1920/60000 (3%)]\tLoss: 0.190370\n",
      "Train Epoch: 3 [2560/60000 (4%)]\tLoss: 0.460965\n",
      "Train Epoch: 3 [3200/60000 (5%)]\tLoss: 0.374678\n",
      "Train Epoch: 3 [3840/60000 (6%)]\tLoss: 0.395965\n",
      "Train Epoch: 3 [4480/60000 (7%)]\tLoss: 0.619219\n",
      "Train Epoch: 3 [5120/60000 (9%)]\tLoss: 0.319496\n",
      "Train Epoch: 3 [5760/60000 (10%)]\tLoss: 0.265609\n",
      "Train Epoch: 3 [6400/60000 (11%)]\tLoss: 0.408524\n",
      "Train Epoch: 3 [7040/60000 (12%)]\tLoss: 0.148120\n",
      "Train Epoch: 3 [7680/60000 (13%)]\tLoss: 0.404263\n",
      "Train Epoch: 3 [8320/60000 (14%)]\tLoss: 0.180376\n",
      "Train Epoch: 3 [8960/60000 (15%)]\tLoss: 0.247380\n",
      "Train Epoch: 3 [9600/60000 (16%)]\tLoss: 0.362227\n",
      "Train Epoch: 3 [10240/60000 (17%)]\tLoss: 0.480911\n",
      "Train Epoch: 3 [10880/60000 (18%)]\tLoss: 0.208934\n",
      "Train Epoch: 3 [11520/60000 (19%)]\tLoss: 0.263772\n",
      "Train Epoch: 3 [12160/60000 (20%)]\tLoss: 0.259213\n",
      "Train Epoch: 3 [12800/60000 (21%)]\tLoss: 0.488885\n",
      "Train Epoch: 3 [13440/60000 (22%)]\tLoss: 0.385020\n",
      "Train Epoch: 3 [14080/60000 (23%)]\tLoss: 0.403537\n",
      "Train Epoch: 3 [14720/60000 (25%)]\tLoss: 0.351843\n",
      "Train Epoch: 3 [15360/60000 (26%)]\tLoss: 0.197805\n",
      "Train Epoch: 3 [16000/60000 (27%)]\tLoss: 0.261404\n",
      "Train Epoch: 3 [16640/60000 (28%)]\tLoss: 0.417485\n",
      "Train Epoch: 3 [17280/60000 (29%)]\tLoss: 0.515814\n",
      "Train Epoch: 3 [17920/60000 (30%)]\tLoss: 0.283439\n",
      "Train Epoch: 3 [18560/60000 (31%)]\tLoss: 0.309560\n",
      "Train Epoch: 3 [19200/60000 (32%)]\tLoss: 0.256307\n",
      "Train Epoch: 3 [19840/60000 (33%)]\tLoss: 0.317872\n",
      "Train Epoch: 3 [20480/60000 (34%)]\tLoss: 0.266458\n",
      "Train Epoch: 3 [21120/60000 (35%)]\tLoss: 0.700621\n",
      "Train Epoch: 3 [21760/60000 (36%)]\tLoss: 0.505827\n",
      "Train Epoch: 3 [22400/60000 (37%)]\tLoss: 0.398972\n",
      "Train Epoch: 3 [23040/60000 (38%)]\tLoss: 0.351424\n",
      "Train Epoch: 3 [23680/60000 (39%)]\tLoss: 0.194192\n",
      "Train Epoch: 3 [24320/60000 (41%)]\tLoss: 0.282423\n",
      "Train Epoch: 3 [24960/60000 (42%)]\tLoss: 0.263221\n",
      "Train Epoch: 3 [25600/60000 (43%)]\tLoss: 0.142568\n",
      "Train Epoch: 3 [26240/60000 (44%)]\tLoss: 0.164003\n",
      "Train Epoch: 3 [26880/60000 (45%)]\tLoss: 0.182180\n",
      "Train Epoch: 3 [27520/60000 (46%)]\tLoss: 0.373173\n",
      "Train Epoch: 3 [28160/60000 (47%)]\tLoss: 0.070460\n",
      "Train Epoch: 3 [28800/60000 (48%)]\tLoss: 0.231065\n",
      "Train Epoch: 3 [29440/60000 (49%)]\tLoss: 0.307808\n",
      "Train Epoch: 3 [30080/60000 (50%)]\tLoss: 0.458882\n",
      "Train Epoch: 3 [30720/60000 (51%)]\tLoss: 0.436767\n",
      "Train Epoch: 3 [31360/60000 (52%)]\tLoss: 0.258882\n",
      "Train Epoch: 3 [32000/60000 (53%)]\tLoss: 0.344531\n",
      "Train Epoch: 3 [32640/60000 (54%)]\tLoss: 0.343451\n",
      "Train Epoch: 3 [33280/60000 (55%)]\tLoss: 0.289127\n",
      "Train Epoch: 3 [33920/60000 (57%)]\tLoss: 0.602210\n",
      "Train Epoch: 3 [34560/60000 (58%)]\tLoss: 0.241212\n",
      "Train Epoch: 3 [35200/60000 (59%)]\tLoss: 0.244261\n",
      "Train Epoch: 3 [35840/60000 (60%)]\tLoss: 0.179411\n",
      "Train Epoch: 3 [36480/60000 (61%)]\tLoss: 0.075201\n",
      "Train Epoch: 3 [37120/60000 (62%)]\tLoss: 0.358131\n",
      "Train Epoch: 3 [37760/60000 (63%)]\tLoss: 0.310997\n",
      "Train Epoch: 3 [38400/60000 (64%)]\tLoss: 0.195244\n",
      "Train Epoch: 3 [39040/60000 (65%)]\tLoss: 0.275332\n",
      "Train Epoch: 3 [39680/60000 (66%)]\tLoss: 0.445145\n",
      "Train Epoch: 3 [40320/60000 (67%)]\tLoss: 0.171782\n",
      "Train Epoch: 3 [40960/60000 (68%)]\tLoss: 0.246979\n",
      "Train Epoch: 3 [41600/60000 (69%)]\tLoss: 0.169490\n",
      "Train Epoch: 3 [42240/60000 (70%)]\tLoss: 0.406696\n",
      "Train Epoch: 3 [42880/60000 (71%)]\tLoss: 0.313524\n",
      "Train Epoch: 3 [43520/60000 (72%)]\tLoss: 0.191802\n",
      "Train Epoch: 3 [44160/60000 (74%)]\tLoss: 0.349239\n",
      "Train Epoch: 3 [44800/60000 (75%)]\tLoss: 0.136881\n",
      "Train Epoch: 3 [45440/60000 (76%)]\tLoss: 0.643170\n",
      "Train Epoch: 3 [46080/60000 (77%)]\tLoss: 0.199110\n",
      "Train Epoch: 3 [46720/60000 (78%)]\tLoss: 0.320507\n",
      "Train Epoch: 3 [47360/60000 (79%)]\tLoss: 0.304360\n",
      "Train Epoch: 3 [48000/60000 (80%)]\tLoss: 0.277463\n",
      "Train Epoch: 3 [48640/60000 (81%)]\tLoss: 0.310385\n",
      "Train Epoch: 3 [49280/60000 (82%)]\tLoss: 0.151662\n",
      "Train Epoch: 3 [49920/60000 (83%)]\tLoss: 0.250328\n",
      "Train Epoch: 3 [50560/60000 (84%)]\tLoss: 0.338534\n",
      "Train Epoch: 3 [51200/60000 (85%)]\tLoss: 0.425890\n",
      "Train Epoch: 3 [51840/60000 (86%)]\tLoss: 0.260622\n",
      "Train Epoch: 3 [52480/60000 (87%)]\tLoss: 0.212429\n",
      "Train Epoch: 3 [53120/60000 (88%)]\tLoss: 0.250898\n",
      "Train Epoch: 3 [53760/60000 (90%)]\tLoss: 0.150866\n",
      "Train Epoch: 3 [54400/60000 (91%)]\tLoss: 0.353114\n",
      "Train Epoch: 3 [55040/60000 (92%)]\tLoss: 0.251878\n",
      "Train Epoch: 3 [55680/60000 (93%)]\tLoss: 0.295353\n",
      "Train Epoch: 3 [56320/60000 (94%)]\tLoss: 0.245041\n",
      "Train Epoch: 3 [56960/60000 (95%)]\tLoss: 0.166932\n",
      "Train Epoch: 3 [57600/60000 (96%)]\tLoss: 0.236085\n",
      "Train Epoch: 3 [58240/60000 (97%)]\tLoss: 0.221425\n",
      "Train Epoch: 3 [58880/60000 (98%)]\tLoss: 0.469178\n",
      "Train Epoch: 3 [59520/60000 (99%)]\tLoss: 0.118068\n",
      "\n",
      "Test set: Avg. loss: 0.1019, Accuracy: 9689/10000 (96%)\n",
      "\n"
     ]
    }
   ],
   "source": [
    "test()\n",
    "for epoch in range(1, n_epochs + 1):\n",
    "    train(epoch)\n",
    "    test()"
   ]
  },
  {
   "cell_type": "code",
   "execution_count": 13,
   "metadata": {},
   "outputs": [
    {
     "data": {
      "image/png": "[encoded data removed]",
      "text/plain": [
       "<Figure size 432x288 with 1 Axes>"
      ]
     },
     "execution_count": 13,
     "metadata": {},
     "output_type": "execute_result"
    },
    {
     "data": {
      "image/png": "[encoded data removed]",
      "text/plain": [
       "<Figure size 432x288 with 1 Axes>"
      ]
     },
     "metadata": {
      "needs_background": "light"
     },
     "output_type": "display_data"
    }
   ],
   "source": [
    "fig = plt.figure()\n",
    "plt.plot(train_counter, train_losses, color='blue')\n",
    "plt.scatter(test_counter, test_losses, color='red')\n",
    "plt.legend(['Train Loss', 'Test Loss'], loc='upper right')\n",
    "plt.xlabel('number of training examples seen')\n",
    "plt.ylabel('negative log likelihood loss')\n",
    "fig"
   ]
  },
  {
   "cell_type": "code",
   "execution_count": 14,
   "metadata": {},
   "outputs": [
    {
     "name": "stderr",
     "output_type": "stream",
     "text": [
      "/anaconda3/lib/python3.7/site-packages/ipykernel_launcher.py:19: UserWarning: Implicit dimension choice for log_softmax has been deprecated. Change the call to include dim=X as an argument.\n"
     ]
    },
    {
     "data": {
      "image/png": "[encoded data removed]",
      "text/plain": [
       "<Figure size 432x288 with 6 Axes>"
      ]
     },
     "execution_count": 14,
     "metadata": {},
     "output_type": "execute_result"
    },
    {
     "data": {
      "image/png": "[encoded data removed]",
      "text/plain": [
       "<Figure size 432x288 with 6 Axes>"
      ]
     },
     "metadata": {},
     "output_type": "display_data"
    }
   ],
   "source": [
    "with torch.no_grad():\n",
    "    output = network(example_data)\n",
    "\n",
    "fig = plt.figure()\n",
    "for i in range(6):\n",
    "    plt.subplot(2,3,i+1)\n",
    "    plt.tight_layout()\n",
    "    plt.imshow(example_data[i][0], cmap='gray', interpolation='none')\n",
    "    plt.title(\"Prediction: {}\".format(\n",
    "        output.data.max(1, keepdim=True)[1][i].item()))\n",
    "    plt.xticks([])\n",
    "    plt.yticks([])\n",
    "fig"
   ]
  },
  {
   "cell_type": "code",
   "execution_count": null,
   "metadata": {},
   "outputs": [],
   "source": []
  }
 ],
 "metadata": {
  "kernelspec": {
   "display_name": "Python [conda env:root] *",
   "language": "python",
   "name": "conda-root-py"
  },
  "language_info": {
   "codemirror_mode": {
    "name": "ipython",
    "version": 3
   },
   "file_extension": ".py",
   "mimetype": "text/x-python",
   "name": "python",
   "nbconvert_exporter": "python",
   "pygments_lexer": "ipython3",
   "version": "3.7.3"
  }
 },
 "nbformat": 4,
 "nbformat_minor": 2
}
